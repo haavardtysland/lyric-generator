{
 "cells": [
  {
   "cell_type": "code",
   "execution_count": 19,
   "id": "a5689f61",
   "metadata": {},
   "outputs": [],
   "source": [
    "#Cell with all the imports\n",
    "import tensorflow as tf\n",
    "from transformers import GPT2LMHeadModel, GPT2Tokenizer, Trainer, TrainingArguments\n",
    "import lyricsgenius\n",
    "import csv\n",
    "from transformers import TextDataset,DataCollatorForLanguageModeling\n",
    "import pandas as pd\n",
    "from sklearn.model_selection import train_test_split"
   ]
  },
  {
   "cell_type": "code",
   "execution_count": 49,
   "id": "80ba3f89",
   "metadata": {},
   "outputs": [
    {
     "name": "stdout",
     "output_type": "stream",
     "text": [
      "Searching for songs by Drake...\n",
      "\n",
      "Song 1: \"God’s Plan\"\n",
      "Song 2: \"In My Feelings\"\n",
      "Song 3: \"Hotline Bling\"\n",
      "\n",
      "Reached user-specified song limit (3).\n",
      "Done. Found 3 songs.\n",
      "Drake, 3 songs\n"
     ]
    },
    {
     "data": {
      "text/plain": [
       "['633 ContributorsTranslationsРусскийTürkçeEspañolPolskiItalianoDeutschFrançaisAzərbaycanca / آذربايجانGod’s Plan Lyrics[Intro]\\nAnd they wishin\\' and wishin\\'\\nAnd wishin\\' and wishin\\', they wishin\\' on me\\nYeah\\n\\n[Verse 1]\\nI been movin\\' calm, don\\'t start no trouble with me\\nTryna keep it peaceful is a struggle for me\\nDon\\'t pull up at 6 AM to cuddle with me\\nYou know how I like it when you lovin\\' on me\\nI don\\'t wanna die for them to miss me\\nYes, I see the things that they wishin\\' on me\\nHope I got some brothers that outlive me\\nThey gon\\' tell the story, shit was different with me\\n\\n[Chorus]\\nGod\\'s plan, God\\'s plan\\nI hold back, sometimes I won\\'t, yeah\\nI feel good, sometimes I don\\'t (Ayy, don\\'t)\\nI finessed down Weston Road (Ayy, \\'nessed)\\nMight go down a G.O.D. (Yeah, wait)\\nI go hard on Southside G (Yeah, wait)\\nI make sure that north-side eat\\nAnd still\\n\\n[Post-Chorus]\\nBad things\\nIt\\'s a lot of bad things that they wishin\\' and wishin\\'\\nAnd wishin\\' and wishin\\', they wishin\\' on me\\nBad things\\nIt\\'s a lot of bad things that they wishin\\' and wishin\\'\\nAnd wishin\\' and wishin\\', they wishin\\' on me\\nYeah, ayy, ayy\\nYou might also like[Verse 2]\\nShe say, \"Do you love me?\" I tell her, \"Only partly\\nI only love my bed and my mama, I\\'m sorry\"\\nFifty Dub, I even got it tatted on me\\nEighty-one, they\\'ll bring the crashers to the party\\nAnd you know me\\nTurn the O2 into the O3, dog\\nWithout 40, Oli, there\\'d be no me\\n\\'Magine if I never met the broskies\\n\\n[Chorus]\\nGod\\'s plan, God\\'s plan\\nI can\\'t do this on my own, ayy (No, ayy)\\nSomeone watchin\\' this shit close (Yep, close)\\nI\\'ve been me since Scarlett Road, ayy (Road, ayy)\\nMight go down as G.O.D. (Yeah, wait, yeah)\\nI go hard on Southside G (Ayy, wait, ayy)\\nI make sure that north-side eat, yeah\\nAnd still\\n\\n[Post-Chorus]\\nBad things\\nIt\\'s a lot of bad things that they wishin\\' and wishin\\'\\nAnd wishin\\' and wishin\\', they wishin\\' on me\\nYeah, yeah\\nBad things\\nIt\\'s a lot of bad things that they wishin\\' and wishin\\'\\nAnd wishin\\' and wishin\\', they wishin\\' on me\\nYeah937Embed',\n",
       " \"367 ContributorsTranslationsไทย / Phasa ThaiPortuguêsEspañolDeutschIn My Feelings Lyrics[Intro: Drake]\\nTrap, TrapMoneyBenny\\nThis shit got me in my feelings\\nGotta be real with it, yeah\\n\\n[Chorus: Drake]\\nKiki, do you love me? Are you riding?\\nSay you'll never ever leave from beside me\\n'Cause I want ya, and I need ya\\nAnd I'm down for you always\\nKB, do you love me? Are you riding?\\nSay you'll never ever leave from beside me\\n'Cause I want ya, and I need ya\\nAnd I'm down for you always\\n\\n[Verse: Drake]\\nLook, the new me is really still the real me\\nI swear you gotta feel me before they try and kill me\\nThey gotta make some choices, they runnin' out of options\\n'Cause I've been goin' off and they don't know when it's stoppin'\\nAnd when you get to toppin', I see that you've been learnin'\\nAnd when I take you shoppin', you spend it like you earned it\\nAnd when you popped off on your ex he deserved it\\nI thought you were the one from the jump, that confirmed it\\nTrapMoneyBenny, ayy\\nI buy you Champagne but you love some Henny\\nFrom the block like you Jenny\\nI know you special, girl, 'cause I know too many\\nYou might also like[Chorus: Drake]\\n'Resha, do you love me? Are you riding?\\nSay you'll never ever leave from beside me\\n'Cause I want ya, and I need ya\\nAnd I'm down for you always\\nJT, do you love me? Are you riding?\\nSay you'll never ever leave from beside me\\n'Cause I want ya, and I need ya\\nAnd I'm down for you always\\n\\n[Interlude: JT, Yung Miami, Drake & Magnolia Shorty]\\nTwo bad bitches and we kissin' in the Wraith\\nKissin'-kissin' in the Wraith, kiss-kissin' in the Wraith\\nI need that black card and the code to the safe\\nCode to the safe, code-code to the safe-safe\\nI show him how that neck work\\nFuck that Netflix and chill—what's your net-net-net worth?\\n'Cause I want ya, and I need ya\\nAnd I'm down for you always\\nYeah, yeah, yeah, yeah, he bad\\nAnd I'm down for you always\\nYeah, yeah, yeah, guess who's back\\nAnd I'm down for you always\\nD-down for you al–\\nBlack biggy biggy black biggy black blake\\nD-d-down for you always\\nI got a new boy, and that nigga trade!\\n[Chorus: Drake]\\nKiki, do you love me? Are you riding?\\nSay you'll never ever leave from beside me\\n'Cause I want you, and I need you\\nAnd I'm down for you always\\nKB, do you love me? Are you riding?\\nSay you'll never ever leave from beside me\\n'Cause I want ya, and I–\\n\\n[Breakdown: Lil Wayne & Magnolia Shorty]\\nSkate and Smoke and Rap\\nNow let me see you\\nBring that ass, bring that ass, bring that ass back!\\nB-bring that ass, bring that ass, bring that ass back!\\nShawty say the nigga that she with can't hit\\nBut shawty, I'ma hit it, hit it like I can't miss\\nNow let me see you\\nClap that ass, you're the only one I love\\nClap that ass, clap-clap that ass!\\nBring that ass back!\\nClap-clap-clap that ass, you're the only one I love\\nLet's go, let's go, let's go!\\nBring that ass back!\\n\\n[Outro: Drake]\\nTrap, TrapMoneyBenny\\nThis shit got me in my feelings\\nGotta be real with it, yup\\nBlaqNmilD, you a genius, you diggin' me?\\n[Skit: Zazie Beetz]\\nI don't even care, I need a photo with Drake\\nBecause my Instagram is weak as fuck\\nI'm just being real, my shit, look–214Embed\",\n",
       " \"312 ContributorsTranslationsTürkçeEspañolPortuguêsFrançaisHotline Bling Lyrics[Intro]\\nYou used to call me on my\\nYou used to, you used to\\nYeah\\n\\n[Chorus]\\nYou used to call me on my cell phone\\nLate-night when you need my love\\nCall me on my cell phone\\nLate-night when you need my love\\nAnd I know when that hotline bling\\nThat can only mean one thing\\nI know when that hotline bling\\nThat can only mean one thing\\n\\n[Verse 1]\\nEver since I left the city, you\\nGot a reputation for yourself now\\nEverybody knows and I feel left out\\nGirl, you got me down, you got me stressed out\\n'Cause ever since I left the city, you\\nStarted wearing less and goin' out more\\nGlasses of champagne out on the dance floor\\nHangin' with some girls I never seen before\\n\\n[Chorus]\\nYou used to call me on my cell phone\\nLate-night when you need my love\\nCall me on my cell phone\\nLate-night when you need my love\\nI know when that hotline bling\\nThat can only mean one thing\\nI know when that hotline bling\\nThat can only mean one thing\\nYou might also like[Verse 2]\\nEver since I left the city, you, you, you\\nYou and me, we just don't get along\\nYou make me feel like I did you wrong\\nGoing places where you don't belong\\nEver since I left the city, you\\nYou got exactly what you asked for\\nRunning out of pages in your passport\\nHangin' with some girls I've never seen before\\n\\n[Chorus]\\nYou used to call me on my cell phone\\nLate-night when you need my love\\nCall me on my cell phone\\nLate-night when you need my love\\nAnd I know when that hotline bling\\nThat can only mean one thing\\nI know when that hotline bling\\nThat can only mean one thing\\n\\n[Bridge]\\nThese days, all I do is\\nWonder if you're bendin' over backwards for someone else\\nWonder if you're rolling up a Backwoods for someone else\\nDoing things I taught you, gettin' nasty for someone else\\nYou don't need no one else\\nYou don't need nobody else, no\\nWhy you never alone?\\nWhy you always touching road?\\nUsed to always stay at home\\nBe a good girl, you was in the zone\\nYeah, you should just be yourself\\nRight now, you're someone else\\n[Chorus]\\nYou used to call me on my cell phone\\nLate-night when you need my love\\nCall me on my cell phone\\nLate-night when you need my love\\nAnd I know when that hotline bling\\nThat can only mean one thing\\nI know when that hotline bling\\nThat can only mean one thing\\n\\n[Outro]\\nEver since I left the city\\n[Produced by Nineteen85]646Embed\"]"
      ]
     },
     "execution_count": 49,
     "metadata": {},
     "output_type": "execute_result"
    }
   ],
   "source": [
    "#Scraping for song_lyrics\n",
    "def get_lyrics(artist_name, max_songs = float('inf')):\n",
    "    genius = lyricsgenius.Genius('l8-nnpE9RfPvXrIpXq1zhiO1SOdcwCD5m3sOUw9rZlrtWRY1f-9K4wD5tdWK2xN6')\n",
    "    genius.timeout = 15\n",
    "    artist = genius.search_artist(artist_name, max_songs=max_songs, sort='popularity')\n",
    "    print(artist)\n",
    "    songs = []\n",
    "    for song in artist.songs:\n",
    "        songs.append(song.lyrics)\n",
    "    return songs\n",
    "\n",
    "def get_lyrics_and_save(artist_name, max_songs = float('inf')):\n",
    "    songs = get_lyrics(artist_name, max_songs)\n",
    "    with open(f'{artist_name}.txt', 'w') as file:\n",
    "        for string in songs:\n",
    "            file.write(string + '\\n')\n",
    "    return songs\n",
    "\n",
    "vale = get_lyrics_and_save(\"Drake\", 3)\n",
    "vale"
   ]
  },
  {
   "cell_type": "code",
   "execution_count": 50,
   "id": "13ed9231",
   "metadata": {},
   "outputs": [],
   "source": [
    "#Load GPT2 Model\n",
    "model_name = \"gpt2\"\n",
    "tokenizer = GPT2Tokenizer.from_pretrained(model_name)\n",
    "model = GPT2LMHeadModel.from_pretrained(model_name, pad_token_id = tokenizer.eos_token_id)"
   ]
  },
  {
   "cell_type": "code",
   "execution_count": 51,
   "id": "63c585ee",
   "metadata": {},
   "outputs": [],
   "source": [
    "#Finetune here before usage of model:\n",
    "#Testing with CSV with ED_SHEERAN SONGS: \n",
    "def read_dataset(artist_name, tokenizer):\n",
    "    train_dataset = TextDataset(file_path=\"data/Drake.txt\",\n",
    "                                block_size=128,\n",
    "                                tokenizer=tokenizer)\n",
    "    \n",
    "\n",
    "    data_collator = DataCollatorForLanguageModeling(tokenizer=tokenizer, mlm=False,)\n",
    "    return train_dataset, data_collator\n",
    "\n",
    "train_dataset, data_collator = read_dataset(\"ed_sheeran\", tokenizer)"
   ]
  },
  {
   "cell_type": "code",
   "execution_count": 52,
   "id": "bc50c2e2",
   "metadata": {},
   "outputs": [
    {
     "data": {
      "text/html": [
       "\n",
       "    <div>\n",
       "      \n",
       "      <progress value='6' max='6' style='width:300px; height:20px; vertical-align: middle;'></progress>\n",
       "      [6/6 00:14, Epoch 3/3]\n",
       "    </div>\n",
       "    <table border=\"1\" class=\"dataframe\">\n",
       "  <thead>\n",
       " <tr style=\"text-align: left;\">\n",
       "      <th>Step</th>\n",
       "      <th>Training Loss</th>\n",
       "    </tr>\n",
       "  </thead>\n",
       "  <tbody>\n",
       "  </tbody>\n",
       "</table><p>"
      ],
      "text/plain": [
       "<IPython.core.display.HTML object>"
      ]
     },
     "metadata": {},
     "output_type": "display_data"
    },
    {
     "data": {
      "text/plain": [
       "TrainOutput(global_step=6, training_loss=3.814711888631185, metrics={'train_runtime': 20.5172, 'train_samples_per_second': 2.632, 'train_steps_per_second': 0.292, 'total_flos': 3527442432000.0, 'train_loss': 3.814711888631185, 'epoch': 3.0})"
      ]
     },
     "execution_count": 52,
     "metadata": {},
     "output_type": "execute_result"
    }
   ],
   "source": [
    "training_args = TrainingArguments(\n",
    "    output_dir='./results',          # output directory\n",
    "    num_train_epochs=3,              # total number of training epochs\n",
    "    per_device_train_batch_size=16,  # batch size per device during training\n",
    "    per_device_eval_batch_size=64,   # batch size for evaluation\n",
    "    warmup_steps=500,                # number of warmup steps for learning rate scheduler\n",
    "    weight_decay=0.01,               # strength of weight decay\n",
    "    logging_dir='./logs',            # directory for storing logs\n",
    "    logging_steps=10,\n",
    ")\n",
    "\n",
    "trainer = Trainer(\n",
    "    model=model,\n",
    "    args=training_args,\n",
    "    train_dataset=train_dataset,\n",
    "    data_collator=data_collator,\n",
    ")\n",
    "\n",
    "trainer.train()"
   ]
  },
  {
   "cell_type": "code",
   "execution_count": 43,
   "id": "4a1b4ba9",
   "metadata": {},
   "outputs": [
    {
     "data": {
      "text/plain": [
       "('./models/joe_cole/tokenizer_config.json',\n",
       " './models/joe_cole/special_tokens_map.json',\n",
       " './models/joe_cole/vocab.json',\n",
       " './models/joe_cole/merges.txt',\n",
       " './models/joe_cole/added_tokens.json')"
      ]
     },
     "execution_count": 43,
     "metadata": {},
     "output_type": "execute_result"
    }
   ],
   "source": [
    "# Save the trained model\n",
    "output_dir = \"./models/drake\"\n",
    "model.save_pretrained(output_dir)\n",
    "tokenizer.save_pretrained(output_dir)"
   ]
  },
  {
   "cell_type": "code",
   "execution_count": 53,
   "id": "c520762d",
   "metadata": {},
   "outputs": [],
   "source": [
    "#Encoding the input\n",
    "start_of_song = \"The world is dizzy\"\n",
    "input_ids = tokenizer.encode(start_of_song, return_tensors=\"pt\")"
   ]
  },
  {
   "cell_type": "code",
   "execution_count": 54,
   "id": "c5f859ec",
   "metadata": {},
   "outputs": [
    {
     "data": {
      "text/plain": [
       "'The world is dizzy'"
      ]
     },
     "execution_count": 54,
     "metadata": {},
     "output_type": "execute_result"
    }
   ],
   "source": [
    "#Decoding the input again to see if it works\n",
    "tokenizer.decode(input_ids[0])"
   ]
  },
  {
   "cell_type": "code",
   "execution_count": 55,
   "id": "fd4507bc",
   "metadata": {},
   "outputs": [],
   "source": [
    "output = model.generate(input_ids, max_length=500, num_beams=5, no_repeat_ngram_size=2, early_stopping=True)"
   ]
  },
  {
   "cell_type": "code",
   "execution_count": 56,
   "id": "d4c8e879",
   "metadata": {},
   "outputs": [
    {
     "data": {
      "text/plain": [
       "tensor([[  464,   995,   318, 29527,    88,    13,   198,   198,  1026,   338,\n",
       "           640,   329,   345,   284,   651,   503,   612,   290,   466,  1223,\n",
       "           546,   340,    13, 50256]])"
      ]
     },
     "execution_count": 56,
     "metadata": {},
     "output_type": "execute_result"
    }
   ],
   "source": [
    "output"
   ]
  },
  {
   "cell_type": "code",
   "execution_count": 57,
   "id": "98c85150",
   "metadata": {},
   "outputs": [
    {
     "data": {
      "text/plain": [
       "\"The world is dizzy.\\n\\nIt's time for you to get out there and do something about it.<|endoftext|>\""
      ]
     },
     "execution_count": 57,
     "metadata": {},
     "output_type": "execute_result"
    }
   ],
   "source": [
    "tokenizer.decode(output[0])"
   ]
  },
  {
   "cell_type": "code",
   "execution_count": null,
   "id": "8a09f8c9",
   "metadata": {},
   "outputs": [],
   "source": []
  }
 ],
 "metadata": {
  "kernelspec": {
   "display_name": "Python 3 (ipykernel)",
   "language": "python",
   "name": "python3"
  },
  "language_info": {
   "codemirror_mode": {
    "name": "ipython",
    "version": 3
   },
   "file_extension": ".py",
   "mimetype": "text/x-python",
   "name": "python",
   "nbconvert_exporter": "python",
   "pygments_lexer": "ipython3",
   "version": "3.8.12"
  }
 },
 "nbformat": 4,
 "nbformat_minor": 5
}
